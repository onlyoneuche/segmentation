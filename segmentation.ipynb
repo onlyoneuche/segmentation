{
 "cells": [
  {
   "cell_type": "code",
   "execution_count": 3,
   "metadata": {},
   "outputs": [],
   "source": [
    "import pandas as pd\n",
    "import numpy as np\n",
    "import datetime as dt\n",
    "from sklearn.preprocessing import StandardScaler\n",
    "from sklearn.cluster import KMeans\n",
    "import matplotlib.pyplot as plt"
   ]
  },
  {
   "cell_type": "code",
   "execution_count": 4,
   "metadata": {},
   "outputs": [],
   "source": [
    "# Load transaction data\n",
    "df = pd.read_csv(\"transactions.csv\")"
   ]
  },
  {
   "cell_type": "code",
   "execution_count": 5,
   "metadata": {},
   "outputs": [],
   "source": [
    "# Convert transaction_date to datetime\n",
    "df[\"transaction_date\"] = pd.to_datetime(df[\"transaction_date\"])"
   ]
  },
  {
   "cell_type": "code",
   "execution_count": 6,
   "metadata": {},
   "outputs": [],
   "source": [
    "# Calculate Recency, Frequency, and Monetary Value\n",
    "snapshot_date = df[\"transaction_date\"].max() + dt.timedelta(days=1)\n",
    "df_rfm = df.groupby(\"user_id\").agg({\n",
    "    \"transaction_date\": lambda x: (snapshot_date - x.max()).days,\n",
    "    \"transaction_id\": \"count\",\n",
    "    \"amount\": \"sum\"\n",
    "}).reset_index()"
   ]
  },
  {
   "cell_type": "code",
   "execution_count": 7,
   "metadata": {},
   "outputs": [],
   "source": [
    "# Rename columns\n",
    "df_rfm.rename(columns={\n",
    "    \"transaction_date\": \"Recency\",\n",
    "    \"transaction_id\": \"Frequency\",\n",
    "    \"amount\": \"MonetaryValue\"\n",
    "}, inplace=True)"
   ]
  },
  {
   "cell_type": "code",
   "execution_count": 8,
   "metadata": {},
   "outputs": [
    {
     "name": "stdout",
     "output_type": "stream",
     "text": [
      "RFM Dataframe:\n",
      "   user_id  Recency  Frequency  MonetaryValue\n",
      "0     1001        9          2        1250.50\n",
      "1     1002       42          1        1000.00\n",
      "2     1003        6          2         551.00\n",
      "3     1004        1          3        5250.50\n",
      "4     1005       22          2        1750.25\n",
      "\n",
      "\n"
     ]
    }
   ],
   "source": [
    "print(\"RFM Dataframe:\")\n",
    "print(df_rfm.head())\n",
    "print(\"\\n\")"
   ]
  },
  {
   "cell_type": "code",
   "execution_count": 10,
   "metadata": {},
   "outputs": [],
   "source": [
    "# Load AUM data\n",
    "df_aum = pd.read_csv(\"aum.csv\")"
   ]
  },
  {
   "cell_type": "code",
   "execution_count": 11,
   "metadata": {},
   "outputs": [],
   "source": [
    "# Convert start_date to datetime\n",
    "df_aum[\"start_date\"] = pd.to_datetime(df_aum[\"start_date\"])"
   ]
  },
  {
   "cell_type": "code",
   "execution_count": 12,
   "metadata": {},
   "outputs": [],
   "source": [
    "\n",
    "# Calculate the number of days since the customer started investing\n",
    "df_aum[\"InvestmentDays\"] = (snapshot_date - df_aum[\"start_date\"]).dt.days"
   ]
  },
  {
   "cell_type": "code",
   "execution_count": 13,
   "metadata": {},
   "outputs": [],
   "source": [
    "# Calculate AUM per day\n",
    "df_aum[\"AUMperDay\"] = df_aum[\"aum\"] / df_aum[\"InvestmentDays\"]"
   ]
  },
  {
   "cell_type": "code",
   "execution_count": 14,
   "metadata": {},
   "outputs": [],
   "source": [
    "# Merge RFM and AUM dataframes\n",
    "df_hybrid = pd.merge(df_rfm, df_aum[[\"user_id\", \"AUMperDay\"]], on=\"user_id\", how=\"inner\")"
   ]
  },
  {
   "cell_type": "code",
   "execution_count": 15,
   "metadata": {},
   "outputs": [
    {
     "name": "stdout",
     "output_type": "stream",
     "text": [
      "Hybrid RFM-AUM Dataframe:\n",
      "   user_id  Recency  Frequency  MonetaryValue   AUMperDay\n",
      "0     1001        9          2        1250.50   80.690250\n",
      "1     1002       42          1        1000.00  188.005714\n",
      "2     1003        6          2         551.00   84.272688\n",
      "3     1004        1          3        5250.50  352.147113\n",
      "4     1005       22          2        1750.25  385.041111\n",
      "\n",
      "\n"
     ]
    }
   ],
   "source": [
    "\n",
    "print(\"Hybrid RFM-AUM Dataframe:\")\n",
    "print(df_hybrid.head())\n",
    "print(\"\\n\")"
   ]
  },
  {
   "cell_type": "code",
   "execution_count": 16,
   "metadata": {},
   "outputs": [],
   "source": [
    "# Standardize RFM and AUM values\n",
    "scaler = StandardScaler()\n",
    "rfm_aum_scaled = scaler.fit_transform(df_hybrid[['Recency', 'Frequency', 'MonetaryValue', 'AUMperDay']])"
   ]
  },
  {
   "cell_type": "code",
   "execution_count": 17,
   "metadata": {},
   "outputs": [],
   "source": [
    "# Convert to a dataframe\n",
    "rfm_aum_scaled_df = pd.DataFrame(rfm_aum_scaled, columns=['R_score', 'F_score', 'M_score', 'AUM_score'])"
   ]
  },
  {
   "cell_type": "code",
   "execution_count": 18,
   "metadata": {},
   "outputs": [],
   "source": [
    "\n",
    "# Invert R_score so that higher values indicate more recent activity\n",
    "rfm_aum_scaled_df['R_score'] = -rfm_aum_scaled_df['R_score']"
   ]
  },
  {
   "cell_type": "code",
   "execution_count": 19,
   "metadata": {},
   "outputs": [],
   "source": [
    "# Add user_id back to the dataframe\n",
    "rfm_aum_scaled_df['user_id'] = df_hybrid['user_id']"
   ]
  },
  {
   "cell_type": "code",
   "execution_count": 20,
   "metadata": {},
   "outputs": [
    {
     "name": "stdout",
     "output_type": "stream",
     "text": [
      "Standardized RFM-AUM Scores:\n",
      "    R_score   F_score   M_score  AUM_score  user_id\n",
      "0  0.394611  0.000000 -0.610172  -1.267811     1001\n",
      "1 -2.318339 -1.581139 -0.717434  -0.410276     1002\n",
      "2  0.641243  0.000000 -0.909691  -1.239185     1003\n",
      "3  1.052296  1.581139  1.102591   0.901343     1004\n",
      "4 -0.674127  0.000000 -0.396183   1.164192     1005\n",
      "\n",
      "\n"
     ]
    }
   ],
   "source": [
    "print(\"Standardized RFM-AUM Scores:\")\n",
    "print(rfm_aum_scaled_df.head())\n",
    "print(\"\\n\")"
   ]
  },
  {
   "cell_type": "code",
   "execution_count": 21,
   "metadata": {},
   "outputs": [],
   "source": [
    "# Prepare data for clustering\n",
    "X = rfm_aum_scaled_df[['R_score', 'F_score', 'M_score', 'AUM_score']]"
   ]
  },
  {
   "cell_type": "code",
   "execution_count": 22,
   "metadata": {},
   "outputs": [
    {
     "data": {
      "image/png": "[encoded data removed]",
      "text/plain": [
       "<Figure size 1000x500 with 1 Axes>"
      ]
     },
     "metadata": {},
     "output_type": "display_data"
    }
   ],
   "source": [
    "# Determine optimal number of clusters using elbow method\n",
    "wcss = []\n",
    "for i in range(1, 11):\n",
    "    kmeans = KMeans(n_clusters=i, init='k-means++', max_iter=300, n_init=10, random_state=0)\n",
    "    kmeans.fit(X)\n",
    "    wcss.append(kmeans.inertia_)\n",
    "\n",
    "plt.figure(figsize=(10,5))\n",
    "plt.plot(range(1, 11), wcss)\n",
    "plt.title('Elbow Method')\n",
    "plt.xlabel('Number of clusters')\n",
    "plt.ylabel('WCSS')\n",
    "plt.show()"
   ]
  },
  {
   "cell_type": "code",
   "execution_count": 23,
   "metadata": {},
   "outputs": [],
   "source": [
    "# Fit K-means clustering to data (assuming 4 clusters from elbow method)\n",
    "kmeans = KMeans(n_clusters=4, init='k-means++', max_iter=300, n_init=10, random_state=0)\n",
    "cluster_labels = kmeans.fit_predict(X)"
   ]
  },
  {
   "cell_type": "code",
   "execution_count": 24,
   "metadata": {},
   "outputs": [
    {
     "name": "stdout",
     "output_type": "stream",
     "text": [
      "Final Dataframe with Cluster Labels:\n",
      "    R_score   F_score   M_score  AUM_score  user_id  Cluster\n",
      "0  0.394611  0.000000 -0.610172  -1.267811     1001        0\n",
      "1 -2.318339 -1.581139 -0.717434  -0.410276     1002        2\n",
      "2  0.641243  0.000000 -0.909691  -1.239185     1003        0\n",
      "3  1.052296  1.581139  1.102591   0.901343     1004        3\n",
      "4 -0.674127  0.000000 -0.396183   1.164192     1005        0\n",
      "\n",
      "\n"
     ]
    }
   ],
   "source": [
    "# Add cluster labels to the dataframe\n",
    "rfm_aum_scaled_df['Cluster'] = cluster_labels\n",
    "\n",
    "print(\"Final Dataframe with Cluster Labels:\")\n",
    "print(rfm_aum_scaled_df.head())\n",
    "print(\"\\n\")"
   ]
  },
  {
   "cell_type": "code",
   "execution_count": 25,
   "metadata": {},
   "outputs": [
    {
     "name": "stdout",
     "output_type": "stream",
     "text": [
      "Cluster Analysis:\n",
      "          R_score   F_score   M_score  AUM_score      user_id\n",
      "Cluster                                                      \n",
      "0        0.367207 -0.263523 -0.610172  -0.079572  1005.333333\n",
      "1       -1.085180  1.581139  1.638151  -1.465819  1007.000000\n",
      "2       -2.318339 -1.581139 -0.717434  -0.410276  1002.000000\n",
      "3        0.600137  0.790569  1.370157   1.176763  1007.000000\n"
     ]
    }
   ],
   "source": [
    "# Basic cluster analysis\n",
    "cluster_analysis = rfm_aum_scaled_df.groupby('Cluster').mean()\n",
    "print(\"Cluster Analysis:\")\n",
    "print(cluster_analysis)"
   ]
  },
  {
   "cell_type": "code",
   "execution_count": 26,
   "metadata": {},
   "outputs": [
    {
     "data": {
      "image/png": "[encoded data removed]",
      "text/plain": [
       "<Figure size 1000x800 with 2 Axes>"
      ]
     },
     "metadata": {},
     "output_type": "display_data"
    }
   ],
   "source": [
    "# Visualize clusters (example with 2 dimensions)\n",
    "plt.figure(figsize=(10,8))\n",
    "scatter = plt.scatter(X['R_score'], X['F_score'], c=cluster_labels, cmap='viridis')\n",
    "plt.title('Customer Segments')\n",
    "plt.xlabel('Recency Score')\n",
    "plt.ylabel('Frequency Score')\n",
    "plt.colorbar(scatter)\n",
    "plt.show()"
   ]
  },
  {
   "cell_type": "code",
   "execution_count": null,
   "metadata": {},
   "outputs": [],
   "source": []
  }
 ],
 "metadata": {
  "kernelspec": {
   "display_name": ".venv",
   "language": "python",
   "name": "python3"
  },
  "language_info": {
   "codemirror_mode": {
    "name": "ipython",
    "version": 3
   },
   "file_extension": ".py",
   "mimetype": "text/x-python",
   "name": "python",
   "nbconvert_exporter": "python",
   "pygments_lexer": "ipython3",
   "version": "3.12.1"
  }
 },
 "nbformat": 4,
 "nbformat_minor": 2
}
